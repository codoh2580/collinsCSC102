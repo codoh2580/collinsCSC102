{
 "cells": [
  {
   "cell_type": "code",
   "execution_count": 2,
   "id": "7c8a3549",
   "metadata": {},
   "outputs": [
    {
     "name": "stdout",
     "output_type": "stream",
     "text": [
      "Enter name of city 1: lagos\n",
      "Enter name of city 2: abuja\n",
      "The name of city 1 after swapping is abuja\n",
      "The name of city 2 after swapping is lagos\n"
     ]
    }
   ],
   "source": [
    "city_1 = input('Enter name of city 1: ')\n",
    "city_2 = input('Enter name of city 2: ')\n",
    "\n",
    "temp = city_1\n",
    "city_1 = city_2\n",
    "city_2 = temp\n",
    "\n",
    "print(f\"The name of city 1 after swapping is {city_1}\")\n",
    "print(f\"The name of city 2 after swapping is {city_2}\")"
   ]
  },
  {
   "cell_type": "code",
   "execution_count": 4,
   "id": "3e92d6ac",
   "metadata": {},
   "outputs": [
    {
     "name": "stdout",
     "output_type": "stream",
     "text": [
      "Enter a number: 5\n",
      "Positive number\n"
     ]
    }
   ],
   "source": [
    "num = float(input(\"Enter a number: \"))\n",
    "if num > 0:\n",
    "    print(\"Positive number\")\n",
    "elif num == 0:\n",
    "    print(\"Zero\")\n",
    "else:\n",
    "    print(\"Negative number\")"
   ]
  },
  {
   "cell_type": "code",
   "execution_count": 5,
   "id": "7e240ecf",
   "metadata": {},
   "outputs": [
    {
     "name": "stdout",
     "output_type": "stream",
     "text": [
      "Welcome to the COUPE DE ESCRIVA 2023: FOOTBALL PICKS \n",
      "\n",
      "Madiba:  Chubby Obiora-Okafo\n",
      "Blue-Jays:  Christopher Uweh\n",
      "Cirok:  Alexander\n",
      "TSG Walkers:  Ikechukwu\n",
      "\n",
      "\n",
      "Madiba:  Chubby Obiora-Okafo\n",
      "Blue-Jays:  Oladimeji Abaniwondea/Jeffrey Awagu\n",
      "Cirok:  Timileyin Pearse/Izuako Jeremy\n",
      "TSG Walker:  Ayomide Ojituku\n"
     ]
    }
   ],
   "source": [
    "print(\"Welcome to the COUPE DE ESCRIVA 2023: FOOTBALL PICKS \\n\")\n",
    "\n",
    "captain = {'Madiba: ': 'Chubby Obiora-Okafo', 'Blue-Jays: ': 'Christopher Uweh', 'Cirok: ': 'Alexander', 'TSG Walkers: ': 'Ikechukwu'}\n",
    "goalkeepers = {'Madiba: ': 'Chubby Obiora-Okafo', 'Blue-Jays: ': 'Oladimeji Abaniwondea/Jeffrey Awagu', 'Cirok: ': 'Timileyin Pearse/Izuako Jeremy', 'TSG Walker: ': 'Ayomide Ojituku'}\n",
    "\n",
    "for pick in captain:\n",
    "    print(pick, captain[pick])\n",
    "    \n",
    "print(\"\\n\")\n",
    "\n",
    "for pick in goalkeepers:\n",
    "    print(pick,goalkeepers[pick])"
   ]
  },
  {
   "cell_type": "code",
   "execution_count": 7,
   "id": "4414176e",
   "metadata": {},
   "outputs": [
    {
     "name": "stdout",
     "output_type": "stream",
     "text": [
      "         Name  Age  Height  Score\n",
      "0    Samantha   17     5.5     80\n",
      "1        Jada   16     6.0     85\n",
      "2        Jane   17     5.4     70\n",
      "3      Claire   18     5.9     60\n",
      "4   Elizabeth   16     5.6     76\n",
      "5        Mary   18     5.5     66\n",
      "6       Susan   17     6.1     87\n",
      "7        Waje   20     6.0     95\n",
      "8      Taibat   19     5.7     50\n",
      "9      Lilian   17     5.5     49\n",
      "10    Charles   19     5.7     74\n",
      "11       Jude   16     5.9     87\n",
      "12      James   18     5.8     75\n",
      "13     Kelvin   17     6.1     68\n",
      "14     Biodun   20     5.9     66\n",
      "15       Wale   19     5.5     78\n",
      "16      Kunle   16     6.1     87\n",
      "17    Matthew   18     5.4     98\n",
      "18        Tom   17     5.8     54\n",
      "19     Kayode   19     5.7     60\n"
     ]
    }
   ],
   "source": [
    "import pandas as pd\n",
    "\n",
    "# Girls' data\n",
    "girls_data = [\n",
    "    ['Samantha', 17, 5.5, 80],\n",
    "    ['Jada', 16, 6.0, 85],\n",
    "    ['Jane', 17, 5.4, 70],\n",
    "    ['Claire', 18, 5.9, 60],\n",
    "    ['Elizabeth', 16, 5.6, 76],\n",
    "    ['Mary', 18, 5.5, 66],\n",
    "    ['Susan', 17, 6.1, 87],\n",
    "    ['Waje', 20, 6.0, 95],\n",
    "    ['Taibat', 19, 5.7, 50],\n",
    "    ['Lilian', 17, 5.5, 49]\n",
    "]\n",
    "\n",
    "# Boys' data\n",
    "boys_data = [\n",
    "    ['Charles', 19, 5.7, 74],\n",
    "    ['Jude', 16, 5.9, 87],\n",
    "    ['James', 18, 5.8, 75],\n",
    "    ['Kelvin', 17, 6.1, 68],\n",
    "    ['Biodun', 20, 5.9, 66],\n",
    "    ['Wale', 19, 5.5, 78],\n",
    "    ['Kunle', 16, 6.1, 87],\n",
    "    ['Matthew', 18, 5.4, 98],\n",
    "    ['Tom', 17, 5.8, 54],\n",
    "    ['Kayode', 19, 5.7, 60]\n",
    "]\n",
    "\n",
    "# Creating a DataFrame\n",
    "data = {\n",
    "    'Name': [item[0] for item in girls_data + boys_data],\n",
    "    'Age': [item[1] for item in girls_data + boys_data],\n",
    "    'Height': [item[2] for item in girls_data + boys_data],\n",
    "    'Score': [item[3] for item in girls_data + boys_data]\n",
    "}\n",
    "\n",
    "df = pd.DataFrame(data)\n",
    "\n",
    "# Printing the DataFrame\n",
    "print(df)\n"
   ]
  },
  {
   "cell_type": "code",
   "execution_count": 8,
   "id": "bbcf9913",
   "metadata": {},
   "outputs": [
    {
     "name": "stdout",
     "output_type": "stream",
     "text": [
      "Enter years of experience: 5\n",
      "Enter age: 35\n",
      "Annual Tax Revenue (ATR): N550000\n"
     ]
    }
   ],
   "source": [
    "def calculate_atr(years_of_experience, age):\n",
    "    if years_of_experience > 25 and age >= 55:\n",
    "        atr = 5600000\n",
    "    elif years_of_experience > 20 and age >= 45:\n",
    "        atr = 4480000\n",
    "    elif years_of_experience > 10 and age >= 35:\n",
    "        atr = 1500000\n",
    "    else:\n",
    "        atr = 550000\n",
    "\n",
    "    return atr\n",
    "\n",
    "# Taking input from the user\n",
    "years_of_experience = int(input(\"Enter years of experience: \"))\n",
    "age = int(input(\"Enter age: \"))\n",
    "\n",
    "# Calculating annual tax revenue (ATR)\n",
    "atr = calculate_atr(years_of_experience, age)\n",
    "\n",
    "# Displaying the result\n",
    "print(\"Annual Tax Revenue (ATR): N{}\".format(atr))\n"
   ]
  },
  {
   "cell_type": "code",
   "execution_count": null,
   "id": "44dab4cd",
   "metadata": {},
   "outputs": [],
   "source": []
  }
 ],
 "metadata": {
  "kernelspec": {
   "display_name": "Python 3 (ipykernel)",
   "language": "python",
   "name": "python3"
  },
  "language_info": {
   "codemirror_mode": {
    "name": "ipython",
    "version": 3
   },
   "file_extension": ".py",
   "mimetype": "text/x-python",
   "name": "python",
   "nbconvert_exporter": "python",
   "pygments_lexer": "ipython3",
   "version": "3.10.9"
  }
 },
 "nbformat": 4,
 "nbformat_minor": 5
}
