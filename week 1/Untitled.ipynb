{
 "cells": [
  {
   "cell_type": "code",
   "execution_count": 1,
   "id": "ed87db0b",
   "metadata": {},
   "outputs": [
    {
     "name": "stdout",
     "output_type": "stream",
     "text": [
      "Hello Jay\n"
     ]
    }
   ],
   "source": [
    "print(\"Hello Jay\")"
   ]
  },
  {
   "cell_type": "code",
   "execution_count": null,
   "id": "816c4a25",
   "metadata": {},
   "outputs": [],
   "source": [
    "person = input(\"What's your name\")"
   ]
  },
  {
   "cell_type": "code",
   "execution_count": null,
   "id": "b0f19480",
   "metadata": {},
   "outputs": [],
   "source": [
    "print('Hello,',person)"
   ]
  },
  {
   "cell_type": "code",
   "execution_count": null,
   "id": "cd675fb5",
   "metadata": {},
   "outputs": [],
   "source": [
    "age = 12"
   ]
  },
  {
   "cell_type": "code",
   "execution_count": null,
   "id": "7432ff56",
   "metadata": {},
   "outputs": [],
   "source": [
    "print(age)"
   ]
  },
  {
   "cell_type": "code",
   "execution_count": null,
   "id": "63f3d642",
   "metadata": {},
   "outputs": [],
   "source": [
    "x = 6\n",
    "y = x = 7\n",
    "print(y)"
   ]
  },
  {
   "cell_type": "code",
   "execution_count": null,
   "id": "68e89e33",
   "metadata": {},
   "outputs": [],
   "source": [
    "name = 'Adele Joe'\n",
    "print (name)"
   ]
  },
  {
   "cell_type": "code",
   "execution_count": null,
   "id": "702e9606",
   "metadata": {},
   "outputs": [],
   "source": [
    "mango = 5\n",
    "apple = 3\n",
    "apple > mango\n",
    "mango < apple\n",
    "mango -- apple"
   ]
  },
  {
   "cell_type": "code",
   "execution_count": null,
   "id": "c05d405f",
   "metadata": {},
   "outputs": [],
   "source": []
  }
 ],
 "metadata": {
  "kernelspec": {
   "display_name": "Python 3 (ipykernel)",
   "language": "python",
   "name": "python3"
  },
  "language_info": {
   "codemirror_mode": {
    "name": "ipython",
    "version": 3
   },
   "file_extension": ".py",
   "mimetype": "text/x-python",
   "name": "python",
   "nbconvert_exporter": "python",
   "pygments_lexer": "ipython3",
   "version": "3.10.9"
  }
 },
 "nbformat": 4,
 "nbformat_minor": 5
}
