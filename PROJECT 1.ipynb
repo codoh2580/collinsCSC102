{
 "cells": [
  {
   "cell_type": "code",
   "execution_count": 10,
   "id": "ee7879c5",
   "metadata": {},
   "outputs": [
    {
     "name": "stdout",
     "output_type": "stream",
     "text": [
      "A code to solve simple interest\n",
      "Enter the principal amount: 10000\n",
      "Enter the interest rate: 10\n",
      "Enter the time period (in years):7\n",
      "Simple interest = 17000.0\n"
     ]
    }
   ],
   "source": [
    "print(\"A code to solve simple interest\")\n",
    "P = int(input(\"Enter the principal amount: \"))\n",
    "R = int(input(\"Enter the interest rate: \"))\n",
    "T = int(input(\"Enter the time period (in years):\"))\n",
    "                 \n",
    "simple_interest = P * (1 + (R/100) * T)\n",
    "                 \n",
    "print(\"Simple interest =\", simple_interest)"
   ]
  },
  {
   "cell_type": "code",
   "execution_count": 11,
   "id": "62dfc06e",
   "metadata": {},
   "outputs": [
    {
     "name": "stdout",
     "output_type": "stream",
     "text": [
      "A code to solve compond interest\n",
      "Enter the pincipal amount: 15000\n",
      "Enter the interest rate: 12\n",
      "Enter the time period (in years):5\n",
      "Enter the numbber of times interest is compouded per year: 3\n",
      "Compound Interest = 457763671865000.0\n"
     ]
    }
   ],
   "source": [
    "print(\"A code to solve compond interest\")\n",
    "P = int(input(\"Enter the pincipal amount: \"))\n",
    "R = int(input(\"Enter the interest rate: \"))\n",
    "T = int(input(\"Enter the time period (in years):\"))\n",
    "n = int(input(\"Enter the numbber of times interest is compouded per year: \"))\n",
    "\n",
    "amount = P * (1 + (R/n))**(n*T)\n",
    "\n",
    "compound_interest = amount - principal\n",
    "\n",
    "print(\"Compound Interest =\", compound_interest)"
   ]
  },
  {
   "cell_type": "code",
   "execution_count": 16,
   "id": "d0da6b7e",
   "metadata": {},
   "outputs": [
    {
     "name": "stdout",
     "output_type": "stream",
     "text": [
      "A code( to solve annuity plan\n",
      "50\n",
      "Annuity Plan = 585000000.0\n"
     ]
    }
   ],
   "source": [
    "print(\"A code( to solve annuity plan\")\n",
    "M = int(input())\n",
    "\n",
    "annuity_plan = P * M * T * ((1 + R/n)**n*T - 1) / (R/n)\n",
    "\n",
    "print(\"Annuity Plan =\", annuity_plan)"
   ]
  },
  {
   "cell_type": "code",
   "execution_count": null,
   "id": "3cbd927e",
   "metadata": {},
   "outputs": [],
   "source": []
  }
 ],
 "metadata": {
  "kernelspec": {
   "display_name": "Python 3 (ipykernel)",
   "language": "python",
   "name": "python3"
  },
  "language_info": {
   "codemirror_mode": {
    "name": "ipython",
    "version": 3
   },
   "file_extension": ".py",
   "mimetype": "text/x-python",
   "name": "python",
   "nbconvert_exporter": "python",
   "pygments_lexer": "ipython3",
   "version": "3.10.9"
  }
 },
 "nbformat": 4,
 "nbformat_minor": 5
}
