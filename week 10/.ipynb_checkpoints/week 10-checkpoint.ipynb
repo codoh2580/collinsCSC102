{
 "cells": [
  {
   "cell_type": "code",
   "execution_count": 1,
   "id": "6efc9311",
   "metadata": {},
   "outputs": [
    {
     "name": "stdout",
     "output_type": "stream",
     "text": [
      "Enter the number of oranges to buy: 50\n",
      "Thank you for your purchase!\n",
      "Cost of 50 oranges: 25.0\n"
     ]
    }
   ],
   "source": [
    "class OrangeStore:\n",
    "    def __init__(self, stock_quantity, price_per_orange):\n",
    "        self.stock_quantity = stock_quantity\n",
    "        self.price_per_orange = price_per_orange\n",
    "\n",
    "    def buy_oranges(self, quantity):\n",
    "        if quantity > self.stock_quantity:\n",
    "            print(\"Sorry, we don't have enough oranges in stock.\")\n",
    "        else:\n",
    "            cost = quantity * self.price_per_orange\n",
    "            self.stock_quantity -= quantity\n",
    "            print(\"Thank you for your purchase!\")\n",
    "            print(\"Cost of\", quantity, \"oranges:\", cost)\n",
    "\n",
    "store = OrangeStore(50, 0.5)\n",
    "\n",
    "quantity_to_buy = int(input(\"Enter the number of oranges to buy: \"))\n",
    "\n",
    "store.buy_oranges(quantity_to_buy)\n"
   ]
  },
  {
   "cell_type": "code",
   "execution_count": 2,
   "id": "137a9766",
   "metadata": {},
   "outputs": [
    {
     "name": "stdout",
     "output_type": "stream",
     "text": [
      "Geometry Calculator\n",
      "1. Area of Trapezium\n",
      "2. Area of Rhombus\n",
      "3. Area of Parallelogram\n",
      "4. Area of Cube\n",
      "5. Volume of Cylinder\n",
      "Enter your choice (1-5): 1\n",
      "Enter the height: 60\n",
      "Enter the length of base 1: 12\n",
      "Enter the length of base 2: 15\n",
      "Area of the trapezium: 810.0\n"
     ]
    }
   ],
   "source": [
    "import math\n",
    "\n",
    "class GeometryCalculator:\n",
    "    def __init__(self):\n",
    "        self.choices = {\n",
    "            1: self.calculate_trapezium_area,\n",
    "            2: self.calculate_rhombus_area,\n",
    "            3: self.calculate_parallelogram_area,\n",
    "            4: self.calculate_cube_area,\n",
    "            5: self.calculate_cylinder_volume\n",
    "        }\n",
    "\n",
    "    def display_menu(self):\n",
    "        print(\"Geometry Calculator\")\n",
    "        print(\"1. Area of Trapezium\")\n",
    "        print(\"2. Area of Rhombus\")\n",
    "        print(\"3. Area of Parallelogram\")\n",
    "        print(\"4. Area of Cube\")\n",
    "        print(\"5. Volume of Cylinder\")\n",
    "\n",
    "    def calculate_trapezium_area(self):\n",
    "        height = float(input(\"Enter the height: \"))\n",
    "        base1 = float(input(\"Enter the length of base 1: \"))\n",
    "        base2 = float(input(\"Enter the length of base 2: \"))\n",
    "        area = height / 2 * (base1 + base2)\n",
    "        print(\"Area of the trapezium:\", area)\n",
    "\n",
    "    def calculate_rhombus_area(self):\n",
    "        diagonal1 = float(input(\"Enter the length of diagonal 1: \"))\n",
    "        diagonal2 = float(input(\"Enter the length of diagonal 2: \"))\n",
    "        area = 0.5 * diagonal1 * diagonal2\n",
    "        print(\"Area of the rhombus:\", area)\n",
    "\n",
    "    def calculate_parallelogram_area(self):\n",
    "        base = float(input(\"Enter the length of the base: \"))\n",
    "        altitude = float(input(\"Enter the altitude: \"))\n",
    "        area = base * altitude\n",
    "        print(\"Area of the parallelogram:\", area)\n",
    "\n",
    "    def calculate_cube_area(self):\n",
    "        side_length = float(input(\"Enter the length of the side: \"))\n",
    "        area = 6 * side_length ** 2\n",
    "        print(\"Surface area of the cube:\", area)\n",
    "\n",
    "    def calculate_cylinder_volume(self):\n",
    "        radius = float(input(\"Enter the radius of the cylinder: \"))\n",
    "        height = float(input(\"Enter the height of the cylinder: \"))\n",
    "        volume = math.pi * radius ** 2 * height\n",
    "        print(\"Volume of the cylinder:\", volume)\n",
    "\n",
    "    def run(self):\n",
    "        self.display_menu()\n",
    "        choice = int(input(\"Enter your choice (1-5): \"))\n",
    "        if choice in self.choices:\n",
    "            self.choices[choice]()\n",
    "        else:\n",
    "            print(\"Invalid choice. Please try again.\")\n",
    "\n",
    "# Create an instance of the GeometryCalculator class\n",
    "calculator = GeometryCalculator()\n",
    "\n",
    "# Run the program\n",
    "calculator.run()\n"
   ]
  },
  {
   "cell_type": "code",
   "execution_count": 1,
   "id": "b784db64",
   "metadata": {},
   "outputs": [],
   "source": [
    "import pandas as pd\n",
    "class Beer():\n",
    "    \n",
    "    def lager(self):\n",
    "        lager = {\"33 Export\", \"Desperados\", \"Goldberg\",\"Gulder\",\"Heineken\",\"Star\"}\n",
    "        self.lager = lager\n",
    "        print(lager)\n",
    "        \n",
    "    def Stout(self):\n",
    "        stout = {\"Legend\", \"Turbo King\", \"Williams\",\"  \",\"  \",\"  \"}\n",
    "        self.stout = stout\n",
    "        print(stout)\n",
    "        \n",
    "    def Non_alcoholic(self):\n",
    "        nonalcoholic = {\"Maltina\", \"Amstel Malta\", \"Malta Gold\",\"Fayrouz\",\" \",\" \"}\n",
    "        self.nonalcoholic = nonalcoholic\n",
    "        print(nonalcoholic)\n",
    "        \n",
    "\n",
    "file = Beer()\n",
    "Drinks = {'Lager':[file.lager], 'Stout':[file.Stout], 'Non-Alcoholic':[file.Non_alcoholic]}\n",
    "df = pd.DataFrame(Drinks)\n",
    "\n",
    "\n",
    "df.to_csv('Nigerian_Breweries.csv')"
   ]
  },
  {
   "cell_type": "code",
   "execution_count": null,
   "id": "5a8656ff",
   "metadata": {},
   "outputs": [],
   "source": []
  }
 ],
 "metadata": {
  "kernelspec": {
   "display_name": "Python 3 (ipykernel)",
   "language": "python",
   "name": "python3"
  },
  "language_info": {
   "codemirror_mode": {
    "name": "ipython",
    "version": 3
   },
   "file_extension": ".py",
   "mimetype": "text/x-python",
   "name": "python",
   "nbconvert_exporter": "python",
   "pygments_lexer": "ipython3",
   "version": "3.10.9"
  }
 },
 "nbformat": 4,
 "nbformat_minor": 5
}
